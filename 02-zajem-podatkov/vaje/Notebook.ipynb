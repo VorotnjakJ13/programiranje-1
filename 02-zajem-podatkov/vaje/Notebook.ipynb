{
 "cells": [
  {
   "cell_type": "code",
   "execution_count": 1,
   "metadata": {},
   "outputs": [],
   "source": [
    "import csv\n",
    "import os\n",
    "import requests\n",
    "import re\n",
    "import orodja"
   ]
  },
  {
   "cell_type": "markdown",
   "metadata": {},
   "source": [
    "\n",
    "# Najprej definirajmo nekaj pomožnih orodij za pridobivanje podatkov s spleta."
   ]
  },
  {
   "cell_type": "markdown",
   "metadata": {},
   "source": [
    "## Definirajte URL glavne strani bolhe za oglase z mačkami"
   ]
  },
  {
   "cell_type": "code",
   "execution_count": 2,
   "metadata": {},
   "outputs": [],
   "source": [
    "cats_frontpage_url = 'http://www.bolha.com/zivali/male-zivali/macke/'"
   ]
  },
  {
   "cell_type": "markdown",
   "metadata": {},
   "source": [
    "Mapa, v katero bomo shranili podatke"
   ]
  },
  {
   "cell_type": "code",
   "execution_count": 3,
   "metadata": {},
   "outputs": [],
   "source": [
    "cat_directory = 'macke'"
   ]
  },
  {
   "cell_type": "markdown",
   "metadata": {},
   "source": [
    "Ime datoteke v katero bomo shranili glavno stran"
   ]
  },
  {
   "cell_type": "code",
   "execution_count": 4,
   "metadata": {},
   "outputs": [],
   "source": [
    "frontpage_filename = 'macke_frontpage.html'"
   ]
  },
  {
   "cell_type": "markdown",
   "metadata": {},
   "source": [
    "Ime CSV datoteke v katero bomo shranili podatke"
   ]
  },
  {
   "cell_type": "code",
   "execution_count": 5,
   "metadata": {},
   "outputs": [],
   "source": [
    "csv_filename = 'macke.csv'"
   ]
  },
  {
   "cell_type": "markdown",
   "metadata": {},
   "source": [
    "Funkcija, ki sprejme URL spletne strani kot argument in spletno stran poskuša prenesti z pomočjo *requests*. Stran z vsebino vrne v obliki niza."
   ]
  },
  {
   "cell_type": "code",
   "execution_count": 6,
   "metadata": {},
   "outputs": [],
   "source": [
    "def download_url_to_string(url):\n",
    "    try:\n",
    "        page_content = requests.get(url).text()\n",
    "        # del kode, ki morda sproži napako\n",
    "  \n",
    "    except requests.exceptions.RequestException as e :\n",
    "        # koda, ki se izvede pri napaki\n",
    "        # dovolj je če izpišemo opozorilo in prekinemo izvajanje funkcije\n",
    "        print(e)\n",
    "        page_content =\"\"\n",
    "    # nadaljujemo s kodo če ni prišlo do napake\n",
    "    return page_content"
   ]
  },
  {
   "cell_type": "markdown",
   "metadata": {},
   "source": [
    "Funkcija zapiše vrednost parametra *text* v novo ustvarjeno datoteko\n",
    "    locirano v *directory/filename*, ali povozi obstoječo. V primeru, da je\n",
    "    niz *directory* prazen datoteko ustvari v trenutni mapi."
   ]
  },
  {
   "cell_type": "code",
   "execution_count": 7,
   "metadata": {},
   "outputs": [],
   "source": [
    "def save_string_to_file(text, directory, filename):\n",
    "    os.makedirs(directory, exist_ok=True)\n",
    "    path = os.path.join(directory, filename)\n",
    "    with open(path, 'w', encoding='utf-8') as file_out:\n",
    "        file_out.write(text)\n",
    "    return None"
   ]
  },
  {
   "cell_type": "markdown",
   "metadata": {},
   "source": [
    "## Definirajte funkcijo, ki prenese glavno stran in jo shrani v datoteko."
   ]
  },
  {
   "cell_type": "code",
   "execution_count": 8,
   "metadata": {},
   "outputs": [],
   "source": [
    "def save_frontpage(url, directory, filename):\n",
    "    '''Save \"cats_frontpage_url\" to the file\n",
    "    \"cat_directory\"/\"frontpage_filename\"'''\n",
    "    \n",
    "    content = download_url_to_string(url)\n",
    "    directory = cat_directory\n",
    "    filename = csv_filename\n",
    "    save_string_to_file(content, directory, filename)\n",
    "    return None"
   ]
  },
  {
   "cell_type": "markdown",
   "metadata": {},
   "source": [
    "## Po pridobitvi podatkov jih želimo obdelati."
   ]
  },
  {
   "cell_type": "code",
   "execution_count": 9,
   "metadata": {},
   "outputs": [],
   "source": [
    "def read_file_to_string(directory, filename):\n",
    "    '''Return the contents of the file \"directory\"/\"filename\" as a string.'''\n",
    "    \n",
    "    with open (csv_filename, 'r') as catsfile:\n",
    "        data = catsfile.read()\n",
    "    return data"
   ]
  },
  {
   "cell_type": "markdown",
   "metadata": {},
   "source": [
    "## Definirajte funkcijo, ki sprejme niz, ki predstavlja vsebino spletne strani, in ga razdeli na dele, kjer vsak del predstavlja en oglas. \n",
    "## To storite s pomočjo regularnih izrazov, ki označujejo začetek in konec posameznega oglasa. \n",
    "## Funkcija naj vrne seznam nizov."
   ]
  },
  {
   "cell_type": "markdown",
   "metadata": {},
   "source": [
    "*re.compile(regex_izraz,text)* tvori niz podatkov, definira od kje do kje je en oglas, \n",
    "t.j.: od *div clas=ad* do *div clas=clear*.\n",
    "Dodamo oznake *flags=re.DOTALL* da z regex znakom *.* ki predstavlja vsak splošen znak , tudi presledek, zajamemo še značko za novo vrtico *\\n*.\n",
    "(...da nam ne povzočajo težav nove vrstice)\n",
    "\n",
    "*re.findall()* vrne seznam nizov."
   ]
  },
  {
   "cell_type": "code",
   "execution_count": 10,
   "metadata": {},
   "outputs": [],
   "source": [
    "def page_to_ads(page_content):\n",
    "    '''Split \"page\" to a list of advertisement blocks.'''\n",
    "  \n",
    "    oglas = re.compile(\n",
    "        r'<dic clas =\"ad\">(.*?)<div clas = \"clear\">', flags = re.DOTALL\n",
    "        )\n",
    "    oglasi = re.findall(oglas, page_content)\n",
    "    return oglasi\n"
   ]
  },
  {
   "cell_type": "markdown",
   "metadata": {},
   "source": [
    "## Definirajte funkcijo, ki sprejme niz, ki predstavlja oglas, in izlušči podatke o imenu, ceni in opisu v oglasu."
   ]
  },
  {
   "cell_type": "markdown",
   "metadata": {},
   "source": [
    "*re.search(pattern, string, flags=0)* ... pojdi čez niz in poišči vzorec, ki se ujema. Vrni *None* , če se nič ne ujema.\n",
    "*.groupdict()* .... ko najdeš vzorec, ki se ujema, sestavi slovar iz podatkov."
   ]
  },
  {
   "cell_type": "code",
   "execution_count": 11,
   "metadata": {},
   "outputs": [],
   "source": [
    "def get_dict_from_ad_block(oglas):\n",
    "    '''Build a dictionary containing the name, description and price\n",
    "    of an ad block.'''\n",
    "    \n",
    "    vzorec_oglasa = re.compile(\n",
    "        r'<h3><a title = \"(?P<ime>.+?)\"'\n",
    "        r'href = \"(?P<link>.+?)\"'\n",
    "        r'class = \"additionalInfo\"><span><b>(?P<rodovnik>.*?)</b></span><div/>'\n",
    "        r'<div class = \"price\"><span>(?P<cena>.*?)</span></div>',\n",
    "        flags = re.DOTALL\n",
    "    )\n",
    "    data = re.search(vzorec_oglasa, oglas)\n",
    "    slovar_oglasov = data.groupdict()\n",
    "\n",
    "\n",
    "    return slovar_oglasov"
   ]
  },
  {
   "cell_type": "markdown",
   "metadata": {},
   "source": [
    "## Definirajte funkcijo, ki sprejme ime in lokacijo datoteke, ki vsebuje besedilo spletne strani, in vrne seznam slovarjev, ki vsebujejo podatke o vseh oglasih strani."
   ]
  },
  {
   "cell_type": "code",
   "execution_count": 12,
   "metadata": {},
   "outputs": [],
   "source": [
    "def ads_from_file(filename, directory):\n",
    "    \n",
    "    stran_s_podatki = read_file_to_string(filename,directory)\n",
    "    posamezni_oglasi = page_to_ads (stran_s_podatki)\n",
    "    \n",
    "    for oglas in posamezni_oglasi : \n",
    "        seznam_slovarjev= []\n",
    "        slovar = get_dict_from_ad_block(oglas)\n",
    "        seznam_slovarjev.append(slovar)\n",
    "    \n",
    "    return seznam_slovarjev\n",
    "\n",
    "def ads_frontpage():\n",
    "    return ads_from_file(cat_directory,frontpage_filename)"
   ]
  },
  {
   "cell_type": "markdown",
   "metadata": {},
   "source": [
    "## Obdelane podatke želimo sedaj shraniti.\n"
   ]
  },
  {
   "cell_type": "markdown",
   "metadata": {},
   "source": [
    "Funkcija ***write_csv*** v csv datoteko podano s parametroma *directory/filename* zapiše vrednosti v parametru *rows* pripadajoče ključem podanim v *fieldnames*."
   ]
  },
  {
   "cell_type": "code",
   "execution_count": 13,
   "metadata": {},
   "outputs": [],
   "source": [
    "def write_csv(fieldnames, rows, directory, filename):\n",
    "\n",
    "    os.makedirs(directory, exist_ok=True)\n",
    "    path = os.path.join(directory, filename)\n",
    "    \n",
    "    with open(path, 'w') as csv_file:\n",
    "    \n",
    "        writer = csv.DictWriter(csv_file, fieldnames=fieldnames)\n",
    "        writer.writeheader()\n",
    "        \n",
    "        for row in rows:\n",
    "            writer.writerow(row)\n",
    "    return"
   ]
  },
  {
   "cell_type": "markdown",
   "metadata": {},
   "source": [
    "## Definirajte funkcijo, ki sprejme neprazen seznam slovarjev, ki predstavljajo podatke iz oglasa mačke, in zapiše vse podatke v csv datoteko. Imena za stolpce *fieldnames* pridobite iz slovarjev."
   ]
  },
  {
   "cell_type": "markdown",
   "metadata": {},
   "source": [
    "Funkcija ***write_cats_ads_to_csv*** vse podatke iz parametra *ads* zapiše v csv datoteko podano s parametroma *directory/filename*. \n",
    "Funkcija predpostavi, da so ključi vseh sloverjev parametra *ads* enaki in je seznam *ads* neprazen.\n",
    "\n",
    "Stavek *assert* preveri da zahteva velja.\n",
    "Če drži, se program normalno izvaja, drugače pa sproži napako.\n",
    "Prednost je v tem, da ga lahko pod določenimi pogoji izklopimo v produkcijskem okolju."
   ]
  },
  {
   "cell_type": "code",
   "execution_count": 14,
   "metadata": {},
   "outputs": [],
   "source": [
    "def write_cat_ads_to_csv(ads, directory, filename):\n",
    "\n",
    "    assert ads and (all(j.keys() == ads[0].keys() for j in ads))\n",
    "    raise NotImplementedError()"
   ]
  },
  {
   "cell_type": "code",
   "execution_count": 15,
   "metadata": {},
   "outputs": [],
   "source": [
    "def write_cat_ads_to_csv(ads, directory, filename):\n",
    "    '''Write a CSV file containing one ad from \"ads\" on each row.'''\n",
    "    write_csv(ads[0].keys(), ads, directory, filename)\n",
    "\n",
    "\n",
    "def write_cat_csv(ads):\n",
    "    '''Save \"ads\" to \"cat_directory\"/\"csv_filename\"'''\n",
    "    write_cat_ads_to_csv(ads, cat_directory, csv_filename)\n"
   ]
  },
  {
   "cell_type": "code",
   "execution_count": 16,
   "metadata": {},
   "outputs": [],
   "source": [
    "# Celoten program poženemo v glavni funkciji\n",
    "\n",
    "def main(redownload=True, reparse=True):\n",
    "    \"\"\"Funkcija izvede celoten del pridobivanja podatkov:\n",
    "    1. Oglase prenese iz bolhe\n",
    "    2. Lokalno html datoteko pretvori v lepšo predstavitev podatkov\n",
    "    3. Podatke shrani v csv datoteko\n",
    "    \"\"\"\n",
    "    # Najprej v lokalno datoteko shranimo glavno stran\n",
    "\n",
    "    # Iz lokalne (html) datoteke preberemo podatke\n",
    "\n",
    "    # Podatke prebermo v lepšo obliko (seznam slovarjev)\n",
    "\n",
    "    # Podatke shranimo v csv datoteko\n",
    "\n",
    "    # Dodatno: S pomočjo parameteov funkcije main omogoči nadzor, ali se\n",
    "    # celotna spletna stran ob vsakem zagon prense (četudi že obstaja)\n",
    "    # in enako za pretvorbo\n",
    "\n",
    "    raise NotImplementedError()\n",
    "\n",
    "\n",
    "#if __name__ == '__main__':\n",
    "#    main()"
   ]
  },
  {
   "cell_type": "code",
   "execution_count": null,
   "metadata": {},
   "outputs": [],
   "source": []
  }
 ],
 "metadata": {
  "kernelspec": {
   "display_name": "Python 3",
   "language": "python",
   "name": "python3"
  },
  "language_info": {
   "codemirror_mode": {
    "name": "ipython",
    "version": 3
   },
   "file_extension": ".py",
   "mimetype": "text/x-python",
   "name": "python",
   "nbconvert_exporter": "python",
   "pygments_lexer": "ipython3",
   "version": "3.8.6"
  }
 },
 "nbformat": 4,
 "nbformat_minor": 4
}
